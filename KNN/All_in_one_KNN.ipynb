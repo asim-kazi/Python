{
 "cells": [
  {
   "cell_type": "code",
   "execution_count": 2,
   "id": "5b272181-0ae9-4b00-862d-cd9eb96a7824",
   "metadata": {},
   "outputs": [
    {
     "name": "stderr",
     "output_type": "stream",
     "text": [
      "C:\\Users\\HP\\AppData\\Local\\Temp\\ipykernel_1580\\444835277.py:23: FutureWarning: Series.__getitem__ treating keys as positions is deprecated. In a future version, integer keys will always be treated as labels (consistent with DataFrame behavior). To access a value by position, use `ser.iloc[pos]`\n",
      "  distance += (row[i] - new_app[i]) ** 2\n"
     ]
    },
    {
     "name": "stdin",
     "output_type": "stream",
     "text": [
      "Please enter a value for k:  6\n"
     ]
    },
    {
     "name": "stdout",
     "output_type": "stream",
     "text": [
      "You entered an even number, which is not valid for KNN!\n"
     ]
    },
    {
     "name": "stdin",
     "output_type": "stream",
     "text": [
      "Please enter 5 or 7 as your odd value for k:  7\n"
     ]
    },
    {
     "name": "stdout",
     "output_type": "stream",
     "text": [
      "Regression result (Predicted Income): 69862.0\n",
      "\n",
      "The 7 nearest neighbors are:\n",
      "     Age  Income  Number of Credit Cards  Loan Sanctioned  Euclidean_Distance\n",
      "3    32   87221                       0                0            2.236068\n",
      "10   28   25311                       5                0            4.242641\n",
      "11   28  103104                       5                1            4.242641\n",
      "8    36   84925                       3                1            5.099020\n",
      "5    25   20769                       2                0            6.000000\n",
      "6    38   79735                       1                0            7.071068\n",
      "9    40   87969                       5                1            9.486833\n"
     ]
    }
   ],
   "source": [
    "import numpy as np\n",
    "import pandas as pd\n",
    "from math import sqrt\n",
    "from collections import Counter\n",
    "\n",
    "# Load the dataset\n",
    "df = pd.read_csv(\"loan_data.csv\")\n",
    "\n",
    "# Extract X (features) and Y (target/loan sanctioned or not)\n",
    "x = df.iloc[:, :-1].values  # Features: Age, Income, Number of Credit Cards\n",
    "y = df.iloc[:, -1].values   # Target: Loan Sanctioned (Yes/No or Regression)\n",
    "\n",
    "# Define the new loan application with placeholders for unknown values\n",
    "# Example: Age=31, Income=None (unknown), Number of Credit Cards=2, Loan Status=None (unknown)\n",
    "new_application = np.array([31, None, 2, None])  # Modify according to your test case\n",
    "\n",
    "# Euclidean distance calculation function\n",
    "def euclidean_distance(row, new_app):\n",
    "    distance = 0\n",
    "    # Loop through features and skip if the new_app value is None\n",
    "    for i in range(len(new_app) - 1):  # Last index is for Loan Sanctioned, so exclude it\n",
    "        if new_app[i] is not None:  # Only consider if new_app has a value\n",
    "            distance += (row[i] - new_app[i]) ** 2\n",
    "    return sqrt(distance)\n",
    "\n",
    "# Calculate Euclidean distances for the new application\n",
    "df['Euclidean_Distance'] = df.apply(lambda row: euclidean_distance(row[:-1], new_application), axis=1)\n",
    "\n",
    "# Sort by Euclidean Distance\n",
    "df_sorted = df.sort_values(by='Euclidean_Distance')\n",
    "\n",
    "# Function to suggest an odd value of k\n",
    "def suggest_odd_k():\n",
    "    k = int(input(\"Please enter a value for k: \"))\n",
    "    \n",
    "    if k % 2 == 0:\n",
    "        below = k - 1\n",
    "        above = k + 1\n",
    "        print(f\"You entered an even number, which is not valid for KNN!\")        \n",
    "        choice = input(f\"Please enter {below} or {above} as your odd value for k: \")\n",
    "        \n",
    "        if choice in [str(below), str(above)]:\n",
    "            return int(choice)\n",
    "        else:\n",
    "            print(\"Invalid choice. Please run the program again.\")\n",
    "            return suggest_odd_k()  # Recursively ask for input again\n",
    "    else:\n",
    "        return k\n",
    "\n",
    "# Get a valid odd value for 'k'\n",
    "k = suggest_odd_k()\n",
    "\n",
    "# Select the k nearest neighbors\n",
    "k_nearest_neighbors = df_sorted.head(k)\n",
    "\n",
    "# Classification (majority voting for loan sanctioned status)\n",
    "def majority_voting(neighbors):\n",
    "    target_values = neighbors.iloc[:, -2].values  # Loan sanctioned column (Yes/No)\n",
    "    vote_count = Counter(target_values)\n",
    "    return vote_count.most_common(1)[0][0]  # Return the most common value (Yes/No)\n",
    "\n",
    "# Regression (average voting for continuous value prediction)\n",
    "def average_voting(neighbors):\n",
    "    target_values = neighbors.iloc[:, 1].values  # Income column\n",
    "    return np.mean(target_values)\n",
    "\n",
    "# Determine if we need to predict Loan Sanctioned or Income\n",
    "if new_application[1] is None:  # If Income is unknown, perform regression\n",
    "    predicted_income = average_voting(k_nearest_neighbors)\n",
    "    print(f\"Regression result (Predicted Income): {predicted_income}\")\n",
    "elif new_application[3] is None:  # If Loan Sanctioned status is unknown, perform classification\n",
    "    loan_result = majority_voting(k_nearest_neighbors)\n",
    "    print(f\"Classification result (Loan Sanctioned or Not): {loan_result}\")\n",
    "else:\n",
    "    print(\"Both Income and Loan Sanctioned Status are known; no prediction needed.\")\n",
    "\n",
    "# Show the k-nearest neighbors\n",
    "print(f\"\\nThe {k} nearest neighbors are:\\n\", k_nearest_neighbors)\n"
   ]
  },
  {
   "cell_type": "code",
   "execution_count": null,
   "id": "fce83344-225d-48da-9adb-67d666999fbb",
   "metadata": {},
   "outputs": [],
   "source": []
  }
 ],
 "metadata": {
  "kernelspec": {
   "display_name": "Python 3 (ipykernel)",
   "language": "python",
   "name": "python3"
  },
  "language_info": {
   "codemirror_mode": {
    "name": "ipython",
    "version": 3
   },
   "file_extension": ".py",
   "mimetype": "text/x-python",
   "name": "python",
   "nbconvert_exporter": "python",
   "pygments_lexer": "ipython3",
   "version": "3.12.4"
  }
 },
 "nbformat": 4,
 "nbformat_minor": 5
}
